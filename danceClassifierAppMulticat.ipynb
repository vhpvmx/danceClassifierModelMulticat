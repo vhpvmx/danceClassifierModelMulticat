{
 "cells": [
  {
   "cell_type": "code",
   "execution_count": 7,
   "metadata": {
    "colab": {
     "base_uri": "https://localhost:8080/"
    },
    "id": "9oVGcl5yLGQq",
    "outputId": "b4ef8f94-d8d9-4fe2-c0d3-955c435a1012"
   },
   "outputs": [],
   "source": [
    "import fastbook\n",
    "fastbook.setup_book()"
   ]
  },
  {
   "cell_type": "code",
   "execution_count": 8,
   "metadata": {
    "id": "9bvPDFuJLGE6"
   },
   "outputs": [],
   "source": [
    "from fastai.vision.all import *\n",
    "from fastai.vision.widgets import *"
   ]
  },
  {
   "cell_type": "code",
   "execution_count": 9,
   "metadata": {},
   "outputs": [],
   "source": [
    "def parent_label_multi(o):\n",
    "    return [Path(o).parent.name]"
   ]
  },
  {
   "cell_type": "code",
   "execution_count": 10,
   "metadata": {},
   "outputs": [],
   "source": [
    "path = Path()\n",
    "learn_inf = load_learner(path/'model.pkl', cpu=True)"
   ]
  },
  {
   "cell_type": "code",
   "execution_count": 11,
   "metadata": {
    "id": "0UAXBDxdLFqi"
   },
   "outputs": [],
   "source": [
    "btn_upload = widgets.FileUpload()\n",
    "out_pl = widgets.Output()\n",
    "lbl_pred = widgets.Label()\n",
    "btn_run = widgets.Button(description='Classify')\n",
    "\n",
    "def on_click_classify(change):\n",
    "    img = PILImage.create(btn_upload.data[-1])\n",
    "    out_pl.clear_output()\n",
    "    with out_pl: display(img.to_thumb(512,512))\n",
    "    pred,pred_idx,probs = learn_inf.predict(img)\n",
    "    #lbl_pred.value = f'Prediction: {pred}; Probability: {probs[pred_idx]:.04f}'\n",
    "    lbl_pred.value = f'Prediction: {pred}'\n",
    "\n",
    "btn_run.on_click(on_click_classify)"
   ]
  },
  {
   "cell_type": "code",
   "execution_count": 12,
   "metadata": {
    "colab": {
     "base_uri": "https://localhost:8080/",
     "height": 273,
     "referenced_widgets": [
      "0d908399c5e943f69dfaa3b3dcf341d4",
      "8f5deaa1abe74aca9e0f256823757ee1",
      "9f80e0458f6c4e5aa3cc50b8b6797b9a",
      "f9ea8b07d44840388880fee6b6367dc0",
      "8b3a4f119ea242c7b8ade5e1a5cfd7f7",
      "4a4086e9f5524764821002432486a831",
      "bb9136aebe3644a8b599520292eea9e5",
      "d06ec7965651487ba92eb5973a4d859d",
      "e44219aa1bd0449084c827fcb35a3363",
      "4599566c2e7949488cb614ca5802f662",
      "c77bb068c8aa429d97864fb3fb8b962e",
      "2504673fe4904848bf968eedb516c1e3",
      "b75787851f4b40f3ad0a3f84b121a08a",
      "156559f6bd1641eaa55438c034b3cf05",
      "02c0ddc7a61e45feabadda82ca6297e1",
      "dcc03071617f4d679f46e92751c1d336"
     ]
    },
    "id": "QtU3QP6QLE06",
    "outputId": "6a9db2e0-1433-4a45-ccec-84e358d096e5"
   },
   "outputs": [
    {
     "data": {
      "application/vnd.jupyter.widget-view+json": {
       "model_id": "e2f455cb855a497b906ce8cce4fc4fbc",
       "version_major": 2,
       "version_minor": 0
      },
      "text/plain": [
       "VBox(children=(Label(value='Select your dancer!'), FileUpload(value={}, description='Upload'), Button(descript…"
      ]
     },
     "metadata": {},
     "output_type": "display_data"
    },
    {
     "data": {
      "text/html": [],
      "text/plain": [
       "<IPython.core.display.HTML object>"
      ]
     },
     "metadata": {},
     "output_type": "display_data"
    },
    {
     "data": {
      "text/html": [],
      "text/plain": [
       "<IPython.core.display.HTML object>"
      ]
     },
     "metadata": {},
     "output_type": "display_data"
    },
    {
     "data": {
      "text/html": [],
      "text/plain": [
       "<IPython.core.display.HTML object>"
      ]
     },
     "metadata": {},
     "output_type": "display_data"
    }
   ],
   "source": [
    "#hide_output\n",
    "VBox([widgets.Label('Select your dancer!'), \n",
    "      btn_upload, btn_run, out_pl, lbl_pred])"
   ]
  },
  {
   "cell_type": "code",
   "execution_count": null,
   "metadata": {},
   "outputs": [],
   "source": []
  }
 ],
 "metadata": {
  "colab": {
   "authorship_tag": "ABX9TyPy7XFJ8N+/lSZFbTAzlkaE",
   "collapsed_sections": [],
   "include_colab_link": true,
   "name": "danceClassifier.ipynb",
   "provenance": []
  },
  "kernelspec": {
   "display_name": "Python 3",
   "language": "python",
   "name": "python3"
  },
  "language_info": {
   "codemirror_mode": {
    "name": "ipython",
    "version": 3
   },
   "file_extension": ".py",
   "mimetype": "text/x-python",
   "name": "python",
   "nbconvert_exporter": "python",
   "pygments_lexer": "ipython3",
   "version": "3.7.9"
  },
  "widgets": {
   "application/vnd.jupyter.widget-state+json": {
    "02c0ddc7a61e45feabadda82ca6297e1": {
     "model_module": "@jupyter-widgets/base",
     "model_name": "LayoutModel",
     "state": {
      "_model_module": "@jupyter-widgets/base",
      "_model_module_version": "1.2.0",
      "_model_name": "LayoutModel",
      "_view_count": null,
      "_view_module": "@jupyter-widgets/base",
      "_view_module_version": "1.2.0",
      "_view_name": "LayoutView",
      "align_content": null,
      "align_items": null,
      "align_self": null,
      "border": null,
      "bottom": null,
      "display": null,
      "flex": null,
      "flex_flow": null,
      "grid_area": null,
      "grid_auto_columns": null,
      "grid_auto_flow": null,
      "grid_auto_rows": null,
      "grid_column": null,
      "grid_gap": null,
      "grid_row": null,
      "grid_template_areas": null,
      "grid_template_columns": null,
      "grid_template_rows": null,
      "height": null,
      "justify_content": null,
      "justify_items": null,
      "left": null,
      "margin": null,
      "max_height": null,
      "max_width": null,
      "min_height": null,
      "min_width": null,
      "object_fit": null,
      "object_position": null,
      "order": null,
      "overflow": null,
      "overflow_x": null,
      "overflow_y": null,
      "padding": null,
      "right": null,
      "top": null,
      "visibility": null,
      "width": null
     }
    },
    "0d908399c5e943f69dfaa3b3dcf341d4": {
     "model_module": "@jupyter-widgets/controls",
     "model_name": "VBoxModel",
     "state": {
      "_dom_classes": [],
      "_model_module": "@jupyter-widgets/controls",
      "_model_module_version": "1.5.0",
      "_model_name": "VBoxModel",
      "_view_count": null,
      "_view_module": "@jupyter-widgets/controls",
      "_view_module_version": "1.5.0",
      "_view_name": "VBoxView",
      "box_style": "",
      "children": [
       "IPY_MODEL_9f80e0458f6c4e5aa3cc50b8b6797b9a",
       "IPY_MODEL_f9ea8b07d44840388880fee6b6367dc0",
       "IPY_MODEL_8b3a4f119ea242c7b8ade5e1a5cfd7f7",
       "IPY_MODEL_4a4086e9f5524764821002432486a831",
       "IPY_MODEL_bb9136aebe3644a8b599520292eea9e5"
      ],
      "layout": "IPY_MODEL_8f5deaa1abe74aca9e0f256823757ee1"
     }
    },
    "156559f6bd1641eaa55438c034b3cf05": {
     "model_module": "@jupyter-widgets/controls",
     "model_name": "DescriptionStyleModel",
     "state": {
      "_model_module": "@jupyter-widgets/controls",
      "_model_module_version": "1.5.0",
      "_model_name": "DescriptionStyleModel",
      "_view_count": null,
      "_view_module": "@jupyter-widgets/base",
      "_view_module_version": "1.2.0",
      "_view_name": "StyleView",
      "description_width": ""
     }
    },
    "2504673fe4904848bf968eedb516c1e3": {
     "model_module": "@jupyter-widgets/controls",
     "model_name": "ButtonStyleModel",
     "state": {
      "_model_module": "@jupyter-widgets/controls",
      "_model_module_version": "1.5.0",
      "_model_name": "ButtonStyleModel",
      "_view_count": null,
      "_view_module": "@jupyter-widgets/base",
      "_view_module_version": "1.2.0",
      "_view_name": "StyleView",
      "button_color": null,
      "font_weight": ""
     }
    },
    "4599566c2e7949488cb614ca5802f662": {
     "model_module": "@jupyter-widgets/controls",
     "model_name": "ButtonStyleModel",
     "state": {
      "_model_module": "@jupyter-widgets/controls",
      "_model_module_version": "1.5.0",
      "_model_name": "ButtonStyleModel",
      "_view_count": null,
      "_view_module": "@jupyter-widgets/base",
      "_view_module_version": "1.2.0",
      "_view_name": "StyleView",
      "button_color": null,
      "font_weight": ""
     }
    },
    "4a4086e9f5524764821002432486a831": {
     "model_module": "@jupyter-widgets/output",
     "model_name": "OutputModel",
     "state": {
      "_dom_classes": [],
      "_model_module": "@jupyter-widgets/output",
      "_model_module_version": "1.0.0",
      "_model_name": "OutputModel",
      "_view_count": null,
      "_view_module": "@jupyter-widgets/output",
      "_view_module_version": "1.0.0",
      "_view_name": "OutputView",
      "layout": "IPY_MODEL_dcc03071617f4d679f46e92751c1d336",
      "msg_id": "",
      "outputs": [
       {
        "image/png": "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\n",
        "metadata": {
         "tags": []
        },
        "output_type": "display_data",
        "text/plain": "<PIL.Image.Image image mode=RGB size=102x128 at 0x7F1C5ECAC0B8>"
       }
      ]
     }
    },
    "8b3a4f119ea242c7b8ade5e1a5cfd7f7": {
     "model_module": "@jupyter-widgets/controls",
     "model_name": "ButtonModel",
     "state": {
      "_dom_classes": [],
      "_model_module": "@jupyter-widgets/controls",
      "_model_module_version": "1.5.0",
      "_model_name": "ButtonModel",
      "_view_count": null,
      "_view_module": "@jupyter-widgets/controls",
      "_view_module_version": "1.5.0",
      "_view_name": "ButtonView",
      "button_style": "",
      "description": "Classify",
      "disabled": false,
      "icon": "",
      "layout": "IPY_MODEL_b75787851f4b40f3ad0a3f84b121a08a",
      "style": "IPY_MODEL_2504673fe4904848bf968eedb516c1e3",
      "tooltip": ""
     }
    },
    "8f5deaa1abe74aca9e0f256823757ee1": {
     "model_module": "@jupyter-widgets/base",
     "model_name": "LayoutModel",
     "state": {
      "_model_module": "@jupyter-widgets/base",
      "_model_module_version": "1.2.0",
      "_model_name": "LayoutModel",
      "_view_count": null,
      "_view_module": "@jupyter-widgets/base",
      "_view_module_version": "1.2.0",
      "_view_name": "LayoutView",
      "align_content": null,
      "align_items": null,
      "align_self": null,
      "border": null,
      "bottom": null,
      "display": null,
      "flex": null,
      "flex_flow": null,
      "grid_area": null,
      "grid_auto_columns": null,
      "grid_auto_flow": null,
      "grid_auto_rows": null,
      "grid_column": null,
      "grid_gap": null,
      "grid_row": null,
      "grid_template_areas": null,
      "grid_template_columns": null,
      "grid_template_rows": null,
      "height": null,
      "justify_content": null,
      "justify_items": null,
      "left": null,
      "margin": null,
      "max_height": null,
      "max_width": null,
      "min_height": null,
      "min_width": null,
      "object_fit": null,
      "object_position": null,
      "order": null,
      "overflow": null,
      "overflow_x": null,
      "overflow_y": null,
      "padding": null,
      "right": null,
      "top": null,
      "visibility": null,
      "width": null
     }
    },
    "9f80e0458f6c4e5aa3cc50b8b6797b9a": {
     "model_module": "@jupyter-widgets/controls",
     "model_name": "LabelModel",
     "state": {
      "_dom_classes": [],
      "_model_module": "@jupyter-widgets/controls",
      "_model_module_version": "1.5.0",
      "_model_name": "LabelModel",
      "_view_count": null,
      "_view_module": "@jupyter-widgets/controls",
      "_view_module_version": "1.5.0",
      "_view_name": "LabelView",
      "description": "",
      "description_tooltip": null,
      "layout": "IPY_MODEL_e44219aa1bd0449084c827fcb35a3363",
      "placeholder": "​",
      "style": "IPY_MODEL_d06ec7965651487ba92eb5973a4d859d",
      "value": "Select your dancer!"
     }
    },
    "b75787851f4b40f3ad0a3f84b121a08a": {
     "model_module": "@jupyter-widgets/base",
     "model_name": "LayoutModel",
     "state": {
      "_model_module": "@jupyter-widgets/base",
      "_model_module_version": "1.2.0",
      "_model_name": "LayoutModel",
      "_view_count": null,
      "_view_module": "@jupyter-widgets/base",
      "_view_module_version": "1.2.0",
      "_view_name": "LayoutView",
      "align_content": null,
      "align_items": null,
      "align_self": null,
      "border": null,
      "bottom": null,
      "display": null,
      "flex": null,
      "flex_flow": null,
      "grid_area": null,
      "grid_auto_columns": null,
      "grid_auto_flow": null,
      "grid_auto_rows": null,
      "grid_column": null,
      "grid_gap": null,
      "grid_row": null,
      "grid_template_areas": null,
      "grid_template_columns": null,
      "grid_template_rows": null,
      "height": null,
      "justify_content": null,
      "justify_items": null,
      "left": null,
      "margin": null,
      "max_height": null,
      "max_width": null,
      "min_height": null,
      "min_width": null,
      "object_fit": null,
      "object_position": null,
      "order": null,
      "overflow": null,
      "overflow_x": null,
      "overflow_y": null,
      "padding": null,
      "right": null,
      "top": null,
      "visibility": null,
      "width": null
     }
    },
    "bb9136aebe3644a8b599520292eea9e5": {
     "model_module": "@jupyter-widgets/controls",
     "model_name": "LabelModel",
     "state": {
      "_dom_classes": [],
      "_model_module": "@jupyter-widgets/controls",
      "_model_module_version": "1.5.0",
      "_model_name": "LabelModel",
      "_view_count": null,
      "_view_module": "@jupyter-widgets/controls",
      "_view_module_version": "1.5.0",
      "_view_name": "LabelView",
      "description": "",
      "description_tooltip": null,
      "layout": "IPY_MODEL_02c0ddc7a61e45feabadda82ca6297e1",
      "placeholder": "​",
      "style": "IPY_MODEL_156559f6bd1641eaa55438c034b3cf05",
      "value": "Prediction: lindyhop; Probability: 0.4899"
     }
    },
    "c77bb068c8aa429d97864fb3fb8b962e": {
     "model_module": "@jupyter-widgets/base",
     "model_name": "LayoutModel",
     "state": {
      "_model_module": "@jupyter-widgets/base",
      "_model_module_version": "1.2.0",
      "_model_name": "LayoutModel",
      "_view_count": null,
      "_view_module": "@jupyter-widgets/base",
      "_view_module_version": "1.2.0",
      "_view_name": "LayoutView",
      "align_content": null,
      "align_items": null,
      "align_self": null,
      "border": null,
      "bottom": null,
      "display": null,
      "flex": null,
      "flex_flow": null,
      "grid_area": null,
      "grid_auto_columns": null,
      "grid_auto_flow": null,
      "grid_auto_rows": null,
      "grid_column": null,
      "grid_gap": null,
      "grid_row": null,
      "grid_template_areas": null,
      "grid_template_columns": null,
      "grid_template_rows": null,
      "height": null,
      "justify_content": null,
      "justify_items": null,
      "left": null,
      "margin": null,
      "max_height": null,
      "max_width": null,
      "min_height": null,
      "min_width": null,
      "object_fit": null,
      "object_position": null,
      "order": null,
      "overflow": null,
      "overflow_x": null,
      "overflow_y": null,
      "padding": null,
      "right": null,
      "top": null,
      "visibility": null,
      "width": null
     }
    },
    "d06ec7965651487ba92eb5973a4d859d": {
     "model_module": "@jupyter-widgets/controls",
     "model_name": "DescriptionStyleModel",
     "state": {
      "_model_module": "@jupyter-widgets/controls",
      "_model_module_version": "1.5.0",
      "_model_name": "DescriptionStyleModel",
      "_view_count": null,
      "_view_module": "@jupyter-widgets/base",
      "_view_module_version": "1.2.0",
      "_view_name": "StyleView",
      "description_width": ""
     }
    },
    "dcc03071617f4d679f46e92751c1d336": {
     "model_module": "@jupyter-widgets/base",
     "model_name": "LayoutModel",
     "state": {
      "_model_module": "@jupyter-widgets/base",
      "_model_module_version": "1.2.0",
      "_model_name": "LayoutModel",
      "_view_count": null,
      "_view_module": "@jupyter-widgets/base",
      "_view_module_version": "1.2.0",
      "_view_name": "LayoutView",
      "align_content": null,
      "align_items": null,
      "align_self": null,
      "border": null,
      "bottom": null,
      "display": null,
      "flex": null,
      "flex_flow": null,
      "grid_area": null,
      "grid_auto_columns": null,
      "grid_auto_flow": null,
      "grid_auto_rows": null,
      "grid_column": null,
      "grid_gap": null,
      "grid_row": null,
      "grid_template_areas": null,
      "grid_template_columns": null,
      "grid_template_rows": null,
      "height": null,
      "justify_content": null,
      "justify_items": null,
      "left": null,
      "margin": null,
      "max_height": null,
      "max_width": null,
      "min_height": null,
      "min_width": null,
      "object_fit": null,
      "object_position": null,
      "order": null,
      "overflow": null,
      "overflow_x": null,
      "overflow_y": null,
      "padding": null,
      "right": null,
      "top": null,
      "visibility": null,
      "width": null
     }
    },
    "e44219aa1bd0449084c827fcb35a3363": {
     "model_module": "@jupyter-widgets/base",
     "model_name": "LayoutModel",
     "state": {
      "_model_module": "@jupyter-widgets/base",
      "_model_module_version": "1.2.0",
      "_model_name": "LayoutModel",
      "_view_count": null,
      "_view_module": "@jupyter-widgets/base",
      "_view_module_version": "1.2.0",
      "_view_name": "LayoutView",
      "align_content": null,
      "align_items": null,
      "align_self": null,
      "border": null,
      "bottom": null,
      "display": null,
      "flex": null,
      "flex_flow": null,
      "grid_area": null,
      "grid_auto_columns": null,
      "grid_auto_flow": null,
      "grid_auto_rows": null,
      "grid_column": null,
      "grid_gap": null,
      "grid_row": null,
      "grid_template_areas": null,
      "grid_template_columns": null,
      "grid_template_rows": null,
      "height": null,
      "justify_content": null,
      "justify_items": null,
      "left": null,
      "margin": null,
      "max_height": null,
      "max_width": null,
      "min_height": null,
      "min_width": null,
      "object_fit": null,
      "object_position": null,
      "order": null,
      "overflow": null,
      "overflow_x": null,
      "overflow_y": null,
      "padding": null,
      "right": null,
      "top": null,
      "visibility": null,
      "width": null
     }
    },
    "f9ea8b07d44840388880fee6b6367dc0": {
     "model_module": "@jupyter-widgets/controls",
     "model_name": "FileUploadModel",
     "state": {
      "_counter": 1,
      "_dom_classes": [],
      "_model_module": "@jupyter-widgets/controls",
      "_model_module_version": "1.5.0",
      "_model_name": "FileUploadModel",
      "_view_count": null,
      "_view_module": "@jupyter-widgets/controls",
      "_view_module_version": "1.5.0",
      "_view_name": "FileUploadView",
      "accept": "",
      "button_style": "",
      "data": [
       null
      ],
      "description": "Upload",
      "description_tooltip": null,
      "disabled": false,
      "error": "",
      "icon": "upload",
      "layout": "IPY_MODEL_c77bb068c8aa429d97864fb3fb8b962e",
      "metadata": [
       {
        "lastModified": 1609337397600,
        "name": "dance1.jpeg",
        "size": 42791,
        "type": "image/jpeg"
       }
      ],
      "multiple": false,
      "style": "IPY_MODEL_4599566c2e7949488cb614ca5802f662"
     }
    }
   }
  }
 },
 "nbformat": 4,
 "nbformat_minor": 1
}
